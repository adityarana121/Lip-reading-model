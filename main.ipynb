{
 "cells": [
  {
   "cell_type": "code",
   "execution_count": 2,
   "metadata": {},
   "outputs": [],
   "source": [
    "import cv2\n",
    "import mediapipe as mp\n",
    "import os\n",
    "import torch\n",
    "import torch.nn as nn\n",
    "import torch.nn.functional as F\n",
    "from torch.utils.data import Dataset, DataLoader\n",
    "from torch.optim import Adam\n"
   ]
  },
  {
   "cell_type": "code",
   "execution_count": 3,
   "metadata": {},
   "outputs": [],
   "source": [
    "# Initialize Mediapipe Face Mesh\n",
    "mp_face_mesh = mp.solutions.face_mesh.FaceMesh(max_num_faces=1)\n"
   ]
  },
  {
   "cell_type": "code",
   "execution_count": 4,
   "metadata": {},
   "outputs": [],
   "source": [
    "# Function to extract lip region\n",
    "def extract_lips(video_path, output_dir):\n",
    "    cap = cv2.VideoCapture(video_path)\n",
    "    frame_count = 0\n",
    "\n",
    "    while cap.isOpened():\n",
    "        ret, frame = cap.read()\n",
    "        if not ret:\n",
    "            break\n",
    "\n",
    "        # Convert frame to RGB for Mediapipe\n",
    "        rgb_frame = cv2.cvtColor(frame, cv2.COLOR_BGR2RGB)\n",
    "        results = mp_face_mesh.process(rgb_frame)\n",
    "\n",
    "        if results.multi_face_landmarks:\n",
    "            # Extract lip landmarks\n",
    "            landmarks = results.multi_face_landmarks[0]\n",
    "            h, w, _ = frame.shape\n",
    "            lip_landmarks = [(int(lm.x * w), int(lm.y * h)) for lm in landmarks.landmark[61:81]]\n",
    "            \n",
    "            # Crop the lip region\n",
    "            min_x = min([x for x, y in lip_landmarks])\n",
    "            max_x = max([x for x, y in lip_landmarks])\n",
    "            min_y = min([y for x, y in lip_landmarks])\n",
    "            max_y = max([y for x, y in lip_landmarks])\n",
    "            lip_roi = frame[min_y:max_y, min_x:max_x]\n",
    "\n",
    "            # Resize the cropped region\n",
    "            if lip_roi.size > 0:\n",
    "                lip_roi_resized = cv2.resize(lip_roi, (100, 50))\n",
    "                # Save the frame\n",
    "                frame_path = os.path.join(output_dir, f\"frame_{frame_count:04d}.jpg\")\n",
    "                cv2.imwrite(frame_path, lip_roi_resized)\n",
    "                frame_count += 1\n",
    "\n",
    "    cap.release()\n"
   ]
  },
  {
   "cell_type": "code",
   "execution_count": 5,
   "metadata": {},
   "outputs": [
    {
     "name": "stdout",
     "output_type": "stream",
     "text": [
      "Camera 0 not accessible.\n",
      "Camera 1 is accessible.\n",
      "Camera 2 is accessible.\n",
      "Camera 3 not accessible.\n",
      "Camera 4 not accessible.\n",
      "No accessible cameras found.\n"
     ]
    }
   ],
   "source": [
    "import cv2\n",
    "\n",
    "def find_working_camera():\n",
    "    for cam_index in range(5):  # Test up to 5 indices\n",
    "        cap = cv2.VideoCapture(cam_index)\n",
    "        if cap.isOpened():\n",
    "            print(f\"Camera {cam_index} is accessible.\")\n",
    "            ret, frame = cap.read()\n",
    "            if ret:\n",
    "                cv2.imshow(f\"Camera {cam_index}\", frame)\n",
    "                if cv2.waitKey(2000) & 0xFF == ord('q'):  # Press 'q' to close window\n",
    "                    cv2.destroyAllWindows()\n",
    "                    cap.release()\n",
    "                    return cam_index\n",
    "            cap.release()\n",
    "        else:\n",
    "            print(f\"Camera {cam_index} not accessible.\")\n",
    "    cv2.destroyAllWindows()\n",
    "    return -1\n",
    "\n",
    "camera_index = find_working_camera()\n",
    "if camera_index != -1:\n",
    "    print(f\"Working camera index: {camera_index}\")\n",
    "else:\n",
    "    print(\"No accessible cameras found.\")\n"
   ]
  },
  {
   "cell_type": "code",
   "execution_count": 6,
   "metadata": {},
   "outputs": [],
   "source": [
    "# Define the LipReadingModel\n",
    "class LipReadingModel(nn.Module):\n",
    "    def __init__(self, vocab_size):\n",
    "        super(LipReadingModel, self).__init__()\n",
    "        \n",
    "        # Conv3d for processing the sequence of frames\n",
    "        self.conv1 = nn.Conv3d(1, 32, kernel_size=(3, 3, 3), stride=(1, 1, 1), padding=(1, 1, 1))\n",
    "        self.conv2 = nn.Conv3d(32, 64, kernel_size=(3, 3, 3), stride=(1, 1, 1), padding=(1, 1, 1))\n",
    "        \n",
    "        # LSTM layer to capture temporal relationships\n",
    "        self.lstm = nn.LSTM(input_size=64 * 100 * 50, hidden_size=128, num_layers=2, batch_first=True)\n",
    "        \n",
    "        # Output layer\n",
    "        self.fc = nn.Linear(128, vocab_size)\n",
    "\n",
    "    def forward(self, x):\n",
    "        # Apply Conv3d layers\n",
    "        x = F.relu(self.conv1(x))\n",
    "        x = F.relu(self.conv2(x))\n",
    "        \n",
    "        # Flatten the spatial dimensions for LSTM\n",
    "        x = x.view(x.size(0), x.size(2), -1)  # [batch_size, sequence_length, features]\n",
    "        \n",
    "        # LSTM to process the sequence\n",
    "        x, _ = self.lstm(x)\n",
    "        \n",
    "        # Fully connected layer\n",
    "        x = self.fc(x)\n",
    "        \n",
    "        return x\n"
   ]
  },
  {
   "cell_type": "code",
   "execution_count": 10,
   "metadata": {},
   "outputs": [],
   "source": [
    "class LipReadingDataset(Dataset):\n",
    "    def __init__(self, frames, texts):\n",
    "        self.frames = frames  # List of frame sequences\n",
    "        self.texts = texts  # List of corresponding transcriptions\n",
    "    \n",
    "    def __len__(self):\n",
    "        return len(self.frames)\n",
    "    \n",
    "    def __getitem__(self, idx):\n",
    "        return torch.tensor(self.frames[idx]), torch.tensor(self.texts[idx])\n"
   ]
  },
  {
   "cell_type": "code",
   "execution_count": 11,
   "metadata": {},
   "outputs": [],
   "source": [
    "# Example data (replace with actual data)\n",
    "frames = [torch.randn(30, 1, 100, 50)]  # List of sequences of lip images (e.g., 30 frames)\n",
    "texts = [[1, 2, 3]]  # Corresponding transcriptions (encoded as integers)\n"
   ]
  },
  {
   "cell_type": "code",
   "execution_count": 12,
   "metadata": {},
   "outputs": [],
   "source": [
    "# Create dataset and dataloader\n",
    "dataset = LipReadingDataset(frames, texts)\n",
    "dataloader = DataLoader(dataset, batch_size=4, shuffle=True)\n",
    "\n",
    "# Define model, optimizer, and loss function\n",
    "vocab_size = 40  # Example vocab size (can be expanded)\n",
    "model = LipReadingModel(vocab_size)\n",
    "\n",
    "optimizer = Adam(model.parameters(), lr=0.001)\n",
    "ctc_loss = nn.CTCLoss()\n"
   ]
  },
  {
   "cell_type": "code",
   "execution_count": 13,
   "metadata": {},
   "outputs": [
    {
     "name": "stderr",
     "output_type": "stream",
     "text": [
      "C:\\Users\\HP\\AppData\\Local\\Temp\\ipykernel_41468\\2186558613.py:10: UserWarning: To copy construct from a tensor, it is recommended to use sourceTensor.clone().detach() or sourceTensor.clone().detach().requires_grad_(True), rather than torch.tensor(sourceTensor).\n",
      "  return torch.tensor(self.frames[idx]), torch.tensor(self.texts[idx])\n"
     ]
    },
    {
     "name": "stdout",
     "output_type": "stream",
     "text": [
      "Epoch 1, Loss: -4.999701976776123\n",
      "Epoch 2, Loss: -5.078636646270752\n",
      "Epoch 3, Loss: -5.055662631988525\n",
      "Epoch 4, Loss: -4.725643634796143\n",
      "Epoch 5, Loss: -4.349334239959717\n",
      "Epoch 6, Loss: -3.7118170261383057\n",
      "Epoch 7, Loss: -3.292073965072632\n",
      "Epoch 8, Loss: -2.6562249660491943\n",
      "Epoch 9, Loss: -1.8031082153320312\n",
      "Epoch 10, Loss: -0.7379097938537598\n"
     ]
    }
   ],
   "source": [
    "# Training loop\n",
    "for epoch in range(10):  # Example 10 epochs\n",
    "    for frames, texts in dataloader:\n",
    "        optimizer.zero_grad()\n",
    "        \n",
    "        # Reshape frames to [batch_size, channels, frames, height, width]\n",
    "        frames = frames.view(frames.size(0), 1, 30, 100, 50)\n",
    "        \n",
    "        output = model(frames)\n",
    "        \n",
    "        # Calculate lengths for CTC loss\n",
    "        input_lengths = torch.full((frames.size(0),), output.size(1), dtype=torch.long)\n",
    "        target_lengths = torch.tensor([len(text) for text in texts], dtype=torch.long)\n",
    "        \n",
    "        # Compute CTC loss\n",
    "        loss = ctc_loss(output.permute(1, 0, 2), texts, input_lengths, target_lengths)\n",
    "        loss.backward()\n",
    "        optimizer.step()\n",
    "        \n",
    "    print(f\"Epoch {epoch + 1}, Loss: {loss.item()}\")\n"
   ]
  },
  {
   "cell_type": "code",
   "execution_count": null,
   "metadata": {},
   "outputs": [],
   "source": [
    "# Initialize webcam\n",
    "camera_index = 0  # Replace with the correct index for DroidCam (e.g., 1 or 2 if 0 doesn't work)\n",
    "cap = cv2.VideoCapture(camera_index)\n",
    "\n",
    "if not cap.isOpened():\n",
    "    print(f\"Failed to open camera at index {camera_index}. Exiting...\")\n",
    "    exit()\n",
    "\n",
    "sequence = []\n",
    "\n",
    "# Loop to capture frames from the webcam\n",
    "while cap.isOpened():\n",
    "    ret, frame = cap.read()\n",
    "    if not ret:\n",
    "        print(\"Failed to read frame. Exiting...\")\n",
    "        break\n",
    "\n",
    "    # Preprocess frame to extract lip region\n",
    "    try:\n",
    "        lip_roi = preprocess_frame(frame)  # Ensure this function is implemented\n",
    "        if lip_roi is not None:  # Only append if a valid ROI is extracted\n",
    "            sequence.append(lip_roi)\n",
    "    except Exception as e:\n",
    "        print(f\"Error during preprocessing: {e}\")\n",
    "        continue\n",
    "\n",
    "    # If we have 30 frames, process the sequence\n",
    "    if len(sequence) == 30:\n",
    "        try:\n",
    "            input_tensor = torch.tensor(sequence).unsqueeze(0).unsqueeze(0).float()  # Add batch dimensions\n",
    "            with torch.no_grad():\n",
    "                prediction = model(input_tensor)  # Pass through the model\n",
    "            predicted_text = decode_prediction(prediction)  # Decode predictions\n",
    "            print(\"Predicted Text:\", predicted_text)\n",
    "        except Exception as e:\n",
    "            print(f\"Error during prediction or decoding: {e}\")\n",
    "\n",
    "        # Reset the sequence for the next batch of frames\n",
    "        sequence = []\n",
    "\n",
    "    # Display the live feed (Optional: Disable this if it slows down processing)\n",
    "    cv2.imshow(\"Webcam Feed\", frame)\n",
    "\n",
    "    # Exit the loop when 'q' is pressed\n",
    "    if cv2.waitKey(1) & 0xFF == ord('q'):\n",
    "        break\n",
    "\n",
    "# Release resources\n",
    "cap.release()\n",
    "cv2.destroyAllWindows()\n"
   ]
  }
 ],
 "metadata": {
  "kernelspec": {
   "display_name": "Python 3",
   "language": "python",
   "name": "python3"
  },
  "language_info": {
   "codemirror_mode": {
    "name": "ipython",
    "version": 3
   },
   "file_extension": ".py",
   "mimetype": "text/x-python",
   "name": "python",
   "nbconvert_exporter": "python",
   "pygments_lexer": "ipython3",
   "version": "3.9.11"
  }
 },
 "nbformat": 4,
 "nbformat_minor": 2
}
